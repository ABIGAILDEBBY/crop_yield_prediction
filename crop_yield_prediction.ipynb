{
 "cells": [
  {
   "cell_type": "markdown",
   "id": "458615b5",
   "metadata": {},
   "source": [
    "### Imports:"
   ]
  },
  {
   "cell_type": "code",
   "execution_count": null,
   "id": "61fda2a6",
   "metadata": {},
   "outputs": [],
   "source": [
    "import pandas as pd\n",
    "import numpy as np\n",
    "import seaborn as sns\n",
    "import matplotlib.pyplot as plt\n",
    "\n",
    "plt.style.use(\"ggplot\")\n",
    "\n",
    "from sklearn.linear_model import LinearRegression, Lasso, Ridge\n",
    "from sklearn.neighbors import KNeighborsRegressor\n",
    "from sklearn.tree import DecisionTreeRegressor\n",
    "from sklearn.metrics import mean_absolute_error, r2_score, accuracy_score\n",
    "\n",
    "import warnings\n",
    "\n",
    "warnings.filterwarnings(\"ignore\")  # Suppress all warnings"
   ]
  },
  {
   "cell_type": "code",
   "execution_count": null,
   "id": "881f5b25",
   "metadata": {},
   "outputs": [],
   "source": [
    "df = pd.read_csv(\"yield_df.csv\")\n",
    "df.head()"
   ]
  },
  {
   "cell_type": "code",
   "execution_count": null,
   "id": "592cd503",
   "metadata": {},
   "outputs": [],
   "source": [
    "df.drop(\"Unnamed: 0\", axis=1, inplace=True)\n",
    "df.head()"
   ]
  },
  {
   "cell_type": "code",
   "execution_count": null,
   "id": "630b4a03",
   "metadata": {},
   "outputs": [],
   "source": [
    "df.info()"
   ]
  },
  {
   "cell_type": "code",
   "execution_count": null,
   "id": "2c8edc2f",
   "metadata": {},
   "outputs": [],
   "source": [
    "df.isnull().sum()"
   ]
  },
  {
   "cell_type": "code",
   "execution_count": null,
   "id": "9e59d2f8",
   "metadata": {},
   "outputs": [],
   "source": [
    "# Count the number of duplicate rows in the DataFrame\n",
    "num_duplicates = df.duplicated().sum()\n",
    "print(f\"The DataFrame contains {num_duplicates} duplicate rows.\")"
   ]
  },
  {
   "cell_type": "code",
   "execution_count": null,
   "id": "7c175c2d",
   "metadata": {},
   "outputs": [],
   "source": [
    "# Remove duplicate rows from the DataFrame\n",
    "df.drop_duplicates(inplace=True)\n",
    "num_duplicates = df.duplicated().sum()\n",
    "print(f\"The DataFrame now contains {num_duplicates} duplicate rows.\")"
   ]
  },
  {
   "cell_type": "code",
   "execution_count": null,
   "id": "feca5698",
   "metadata": {},
   "outputs": [],
   "source": [
    "df.shape"
   ]
  },
  {
   "cell_type": "code",
   "execution_count": null,
   "id": "552de73d",
   "metadata": {},
   "outputs": [],
   "source": [
    "df.describe()"
   ]
  },
  {
   "cell_type": "code",
   "execution_count": null,
   "id": "ad34301f",
   "metadata": {},
   "outputs": [],
   "source": [
    "# df.corr()\n",
    "# Select only numeric columns\n",
    "numeric_cols = df.select_dtypes(include=[np.number])\n",
    "\n",
    "# Calculate correlation matrix ignoring non-numeric values\n",
    "corr_matrix = numeric_cols.corr(method=\"spearman\")  # Spearman rank correlation\n",
    "corr_matrix"
   ]
  },
  {
   "cell_type": "code",
   "execution_count": null,
   "id": "db963438",
   "metadata": {},
   "outputs": [],
   "source": [
    "# Data Visualization"
   ]
  },
  {
   "cell_type": "code",
   "execution_count": null,
   "id": "23f7f90d",
   "metadata": {},
   "outputs": [],
   "source": [
    "len(df[\"Area\"].unique())"
   ]
  },
  {
   "cell_type": "code",
   "execution_count": null,
   "id": "e8917aff",
   "metadata": {},
   "outputs": [],
   "source": [
    "len(df[\"Item\"].unique())"
   ]
  },
  {
   "cell_type": "code",
   "execution_count": null,
   "id": "4f03a17e",
   "metadata": {},
   "outputs": [],
   "source": [
    "plt.figure(figsize=(15, 20))\n",
    "sns.countplot(y=df[\"Area\"])\n",
    "plt.show()"
   ]
  },
  {
   "cell_type": "code",
   "execution_count": null,
   "id": "da36c6ad",
   "metadata": {},
   "outputs": [],
   "source": [
    "plt.figure(figsize=(15, 20))\n",
    "\n",
    "# Create the countplot with default color assignment\n",
    "sns.countplot(\n",
    "    y=\"Item\", data=df  # Set column for y-axis  # Specify data source (DataFrame)\n",
    ")\n",
    "\n",
    "# Customize plot elements (optional)\n",
    "plt.xlabel(\"Number of entries\")  # Add x-axis label\n",
    "plt.ylabel(\"Crop Types\")  # Add y-axis label\n",
    "plt.title(\"Distribution of Items\")  # Add title\n",
    "plt.xticks(rotation=45)  # Rotate x-axis labels for readability (optional)\n",
    "plt.tight_layout()  # Adjust spacing between elements\n",
    "\n",
    "plt.show()"
   ]
  },
  {
   "cell_type": "code",
   "execution_count": null,
   "id": "e77fe879",
   "metadata": {},
   "outputs": [],
   "source": [
    "(df[\"Area\"].value_counts() < 400).sum()"
   ]
  },
  {
   "cell_type": "code",
   "execution_count": null,
   "id": "0402d9ae",
   "metadata": {},
   "outputs": [],
   "source": [
    "country = df[\"Area\"].unique()\n",
    "yield_per_country = []\n",
    "for state in country:\n",
    "    yield_per_country.append(df[df[\"Area\"] == state][\"hg/ha_yield\"].sum())"
   ]
  },
  {
   "cell_type": "code",
   "execution_count": null,
   "id": "e260c71f",
   "metadata": {},
   "outputs": [],
   "source": [
    "df[\"hg/ha_yield\"].sum()"
   ]
  },
  {
   "cell_type": "code",
   "execution_count": null,
   "id": "b9c92d82",
   "metadata": {},
   "outputs": [],
   "source": [
    "yield_per_country"
   ]
  },
  {
   "cell_type": "code",
   "execution_count": null,
   "id": "07318e3d",
   "metadata": {},
   "outputs": [],
   "source": [
    "plt.figure(figsize=(15, 20))\n",
    "sns.barplot(y=country, x=yield_per_country)\n",
    "plt.show()"
   ]
  },
  {
   "cell_type": "code",
   "execution_count": null,
   "id": "2421d92a",
   "metadata": {},
   "outputs": [],
   "source": [
    "crops = df[\"Item\"].unique()\n",
    "yield_per_crop = []\n",
    "for crop in crops:\n",
    "    yield_per_crop.append(df[df[\"Item\"] == crop][\"hg/ha_yield\"].sum())"
   ]
  },
  {
   "cell_type": "code",
   "execution_count": null,
   "id": "9241475a",
   "metadata": {},
   "outputs": [],
   "source": [
    "plt.figure(figsize=(15, 20))\n",
    "sns.barplot(y=crops, x=yield_per_crop)\n",
    "plt.show()"
   ]
  },
  {
   "cell_type": "code",
   "execution_count": null,
   "id": "444061d4",
   "metadata": {},
   "outputs": [],
   "source": [
    "df.columns"
   ]
  },
  {
   "cell_type": "code",
   "execution_count": null,
   "id": "c1068cf5",
   "metadata": {},
   "outputs": [],
   "source": [
    "col = [\n",
    "    \"Year\",\n",
    "    \"average_rain_fall_mm_per_year\",\n",
    "    \"pesticides_tonnes\",\n",
    "    \"avg_temp\",\n",
    "    \"Area\",\n",
    "    \"Item\",\n",
    "    \"hg/ha_yield\",\n",
    "]\n",
    "df = df[col]\n",
    "df.head()"
   ]
  },
  {
   "cell_type": "code",
   "execution_count": null,
   "id": "e79a82e1",
   "metadata": {},
   "outputs": [],
   "source": [
    "X = df.drop(\"hg/ha_yield\", axis=1)\n",
    "y = df[\"hg/ha_yield\"]\n",
    "print(X.shape)\n",
    "print(y.shape)"
   ]
  },
  {
   "cell_type": "code",
   "execution_count": null,
   "id": "900e9841",
   "metadata": {},
   "outputs": [],
   "source": [
    "from sklearn.model_selection import train_test_split\n",
    "\n",
    "X_train, X_test, y_train, y_test = train_test_split(\n",
    "    X, y, test_size=0.2, random_state=42, shuffle=True\n",
    ")"
   ]
  },
  {
   "cell_type": "code",
   "execution_count": null,
   "id": "a5c9630a",
   "metadata": {},
   "outputs": [],
   "source": [
    "from sklearn.preprocessing import OneHotEncoder\n",
    "from sklearn.compose import ColumnTransformer\n",
    "from sklearn.preprocessing import StandardScaler\n",
    "\n",
    "ohe = OneHotEncoder(drop=\"first\")\n",
    "scale = StandardScaler()\n",
    "\n",
    "preprocesser = ColumnTransformer(\n",
    "    transformers=[\n",
    "        (\"StandardScale\", scale, [0, 1, 2, 3]),\n",
    "        (\"OneHotEncode\", ohe, [4, 5]),\n",
    "    ],\n",
    "    remainder=\"passthrough\",\n",
    ")\n",
    "\n",
    "\n",
    "X_train_dummy = preprocesser.fit_transform(X_train)\n",
    "X_test_dummy = preprocesser.fit_transform(X_test)\n",
    "\n",
    "\n",
    "models = {\n",
    "    \"LINEAR REGRESSION\": LinearRegression(),\n",
    "    \"LASSO\": Lasso(),\n",
    "    \"RIDGE\": Ridge(),\n",
    "    \"DECISION TREE\": DecisionTreeRegressor(),\n",
    "    \"KNN\": KNeighborsRegressor(),\n",
    "}\n",
    "\n",
    "for name, md in models.items():\n",
    "    md.fit(X_train_dummy, y_train)\n",
    "    y_pred = md.predict(X_test_dummy)\n",
    "    print(\n",
    "        f\"{name}\\n MAE: {mean_absolute_error(y_test, y_pred)} score: {r2_score(y_test, y_pred)}\"\n",
    "    )"
   ]
  },
  {
   "cell_type": "code",
   "execution_count": null,
   "id": "5104dfe6",
   "metadata": {},
   "outputs": [],
   "source": [
    "dtr = DecisionTreeRegressor()\n",
    "dtr.fit(X_train_dummy, y_train)\n",
    "dtr.predict(X_test_dummy)"
   ]
  },
  {
   "cell_type": "code",
   "execution_count": null,
   "id": "4e6d0667",
   "metadata": {},
   "outputs": [],
   "source": [
    "# Predictive System\n",
    "\n",
    "\n",
    "def prediction(\n",
    "    Year, average_rain_fall_mm_per_year, pesticides_tonnes, avg_temp, Area, Item\n",
    "):\n",
    "    features = np.array(\n",
    "        [\n",
    "            [\n",
    "                Year,\n",
    "                average_rain_fall_mm_per_year,\n",
    "                pesticides_tonnes,\n",
    "                avg_temp,\n",
    "                Area,\n",
    "                Item,\n",
    "            ]\n",
    "        ],\n",
    "        dtype=object,\n",
    "    )\n",
    "    transform_features = preprocesser.transform(features)\n",
    "    predicted_yeild = dtr.predict(transform_features).reshape(-1, 1)\n",
    "    return predicted_yeild[0][0]"
   ]
  },
  {
   "cell_type": "code",
   "execution_count": null,
   "id": "bda48920",
   "metadata": {},
   "outputs": [],
   "source": [
    "result = prediction(1990, 1485.0, 121.0, 16.37, \"Albania\", \"Maize\")\n",
    "result"
   ]
  },
  {
   "cell_type": "code",
   "execution_count": null,
   "id": "721b3e0f",
   "metadata": {},
   "outputs": [],
   "source": [
    "import pickle\n",
    "\n",
    "pickle.dump(dtr, open(\"dtr.pkl\", \"wb\"))\n",
    "pickle.dump(preprocesser, open(\"preprocesser.pkl\", \"wb\"))"
   ]
  }
 ],
 "metadata": {
  "kernelspec": {
   "display_name": "Python 3",
   "language": "python",
   "name": "python3"
  },
  "language_info": {
   "codemirror_mode": {
    "name": "ipython",
    "version": 3
   },
   "file_extension": ".py",
   "mimetype": "text/x-python",
   "name": "python",
   "nbconvert_exporter": "python",
   "pygments_lexer": "ipython3",
   "version": "3.9.11"
  }
 },
 "nbformat": 4,
 "nbformat_minor": 5
}
